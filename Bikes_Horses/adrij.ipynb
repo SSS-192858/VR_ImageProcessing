{
 "cells": [
  {
   "cell_type": "code",
   "execution_count": 1,
   "metadata": {
    "id": "zAYrXiMTLaRK"
   },
   "outputs": [],
   "source": [
    "import cv2\n",
    "import numpy as np\n",
    "import os\n",
    "import matplotlib.pyplot as plt\n",
    "import random\n",
    "import pylab as pl\n",
    "from sklearn.metrics import confusion_matrix,accuracy_score"
   ]
  },
  {
   "cell_type": "code",
   "execution_count": 2,
   "metadata": {
    "colab": {
     "base_uri": "https://localhost:8080/",
     "height": 49
    },
    "id": "OypKtdihTrPB",
    "outputId": "36d19496-5edd-4276-e27d-8b06244fca36",
    "scrolled": true
   },
   "outputs": [],
   "source": [
    "train_path=\"dataset\"\n",
    "class_names=os.listdir(train_path)"
   ]
  },
  {
   "cell_type": "code",
   "execution_count": 5,
   "metadata": {
    "colab": {
     "base_uri": "https://localhost:8080/"
    },
    "id": "RpzE68dvYRUI",
    "outputId": "cc043d53-6bda-4727-aa96-d58057e82e90"
   },
   "outputs": [
    {
     "data": {
      "text/plain": [
       "0"
      ]
     },
     "execution_count": 5,
     "metadata": {},
     "output_type": "execute_result"
    }
   ],
   "source": [
    "print(class_names)"
   ]
  },
  {
   "cell_type": "code",
   "execution_count": null,
   "metadata": {},
   "outputs": [],
   "source": [
    "image_paths=[]\n",
    "image_classes=[]"
   ]
  },
  {
   "cell_type": "code",
   "execution_count": null,
   "metadata": {},
   "outputs": [],
   "source": [
    "def img_list(path):\n",
    "    return (os.path.join(path,f) for f in os.listdir(path))"
   ]
  },
  {
   "cell_type": "code",
   "execution_count": 6,
   "metadata": {
    "id": "me4PKlJ2CetB"
   },
   "outputs": [],
   "source": [
    "for training_name in class_names:\n",
    "    dir_=os.path.join(train_path,training_name)\n",
    "    class_path=img_list(dir_)\n",
    "    image_paths+=class_path"
   ]
  },
  {
   "cell_type": "code",
   "execution_count": null,
   "metadata": {
    "colab": {
     "base_uri": "https://localhost:8080/"
    },
    "id": "ifciSfi3YVHI",
    "outputId": "cc81ce47-fcd8-41dc-d152-3f0c1a717c9c"
   },
   "outputs": [],
   "source": [
    "len(image_paths)"
   ]
  },
  {
   "cell_type": "code",
   "execution_count": null,
   "metadata": {
    "colab": {
     "base_uri": "https://localhost:8080/"
    },
    "id": "z9Q7ix57RrRs",
    "outputId": "0ef86645-62a9-42e2-8de4-8d2102f901b3"
   },
   "outputs": [],
   "source": [
    "image_classes_0=[0]*(len(image_paths)//2)"
   ]
  },
  {
   "cell_type": "code",
   "execution_count": 58,
   "metadata": {
    "id": "vJFXVIzly6Or"
   },
   "outputs": [],
   "source": [
    "image_classes_1=[1]*(len(image_paths)//2)"
   ]
  },
  {
   "cell_type": "code",
   "execution_count": 59,
   "metadata": {
    "id": "ECYGF57z9pUh"
   },
   "outputs": [],
   "source": [
    "image_classes=image_classes_0+image_classes_1"
   ]
  },
  {
   "cell_type": "code",
   "execution_count": 60,
   "metadata": {
    "id": "Adar3JqjYLo2"
   },
   "outputs": [],
   "source": [
    "D=[]"
   ]
  },
  {
   "cell_type": "code",
   "execution_count": null,
   "metadata": {
    "colab": {
     "base_uri": "https://localhost:8080/"
    },
    "id": "qFgCy0aXI6t_",
    "outputId": "19f7233f-cf07-458d-93b4-09b848b4653d"
   },
   "outputs": [],
   "source": [
    "for i in range(len(image_paths)):\n",
    "    D.append((image_paths[i],image_classes[i]))"
   ]
  },
  {
   "cell_type": "code",
   "execution_count": null,
   "metadata": {
    "colab": {
     "base_uri": "https://localhost:8080/"
    },
    "id": "4x0Z0JmjaeZP",
    "outputId": "96d00a82-af83-429f-eaf9-e9d4a434ae76"
   },
   "outputs": [],
   "source": [
    "dataset = D\n",
    "random.shuffle(dataset)\n",
    "train = dataset[:180]\n",
    "test = dataset[180:]\n",
    "\n",
    "image_paths, y_train = zip(*train)\n",
    "image_paths_test, y_test = zip(*test)"
   ]
  },
  {
   "cell_type": "code",
   "execution_count": null,
   "metadata": {
    "colab": {
     "base_uri": "https://localhost:8080/"
    },
    "id": "m85tD9Imcwzl",
    "outputId": "2819638e-4188-4c13-8acf-0aa8af9f2dbc"
   },
   "outputs": [],
   "source": [
    "des_list=[]"
   ]
  },
  {
   "cell_type": "code",
   "execution_count": null,
   "metadata": {
    "colab": {
     "base_uri": "https://localhost:8080/"
    },
    "id": "EMxtHquA7lob",
    "outputId": "79d587c2-2691-4292-a38d-90913403a7c4"
   },
   "outputs": [],
   "source": [
    "orb=cv2.ORB_create()"
   ]
  },
  {
   "cell_type": "code",
   "execution_count": null,
   "metadata": {
    "id": "XwZnXzYP_66b"
   },
   "outputs": [],
   "source": [
    "im=cv2.imread(image_paths[1])"
   ]
  },
  {
   "cell_type": "code",
   "execution_count": null,
   "metadata": {
    "id": "L6f2JN8VBZuN"
   },
   "outputs": [],
   "source": [
    "plt.imshow(im)"
   ]
  },
  {
   "cell_type": "code",
   "execution_count": null,
   "metadata": {},
   "outputs": [],
   "source": [
    "def draw_keypoints(vis, keypoints, color = (0, 255, 255)):\n",
    "    for kp in keypoints:\n",
    "            x, y = kp.pt\n",
    "            plt.imshow(cv2.circle(vis, (int(x), int(y)), 2, color))"
   ]
  },
  {
   "cell_type": "code",
   "execution_count": null,
   "metadata": {},
   "outputs": [],
   "source": [
    "kp = orb.detect(im,None)\n",
    "kp, des = orb.compute(im, kp)\n",
    "img=draw_keypoints(im,kp)"
   ]
  },
  {
   "cell_type": "code",
   "execution_count": null,
   "metadata": {},
   "outputs": [],
   "source": [
    "for image_pat in image_paths:\n",
    "    im=cv2.imread(image_pat)\n",
    "    kp=orb.detect(im,None)\n",
    "    keypoints,descriptor= orb.compute(im, kp)\n",
    "    des_list.append((image_pat,descriptor))"
   ]
  },
  {
   "cell_type": "code",
   "execution_count": null,
   "metadata": {},
   "outputs": [],
   "source": [
    "descriptors=des_list[0][1]\n",
    "for image_path,descriptor in des_list[1:]:\n",
    "    descriptors=np.vstack((descriptors,descriptor))"
   ]
  },
  {
   "cell_type": "code",
   "execution_count": null,
   "metadata": {},
   "outputs": [],
   "source": [
    "descriptors.shape"
   ]
  },
  {
   "cell_type": "code",
   "execution_count": null,
   "metadata": {},
   "outputs": [],
   "source": [
    "descriptors_float=descriptors.astype(float)"
   ]
  },
  {
   "cell_type": "code",
   "execution_count": null,
   "metadata": {},
   "outputs": [],
   "source": [
    "from scipy.cluster.vq import kmeans,vq"
   ]
  },
  {
   "cell_type": "code",
   "execution_count": null,
   "metadata": {},
   "outputs": [],
   "source": [
    "k=200\n",
    "voc,variance=kmeans(descriptors_float,k,1)"
   ]
  },
  {
   "cell_type": "code",
   "execution_count": null,
   "metadata": {},
   "outputs": [],
   "source": [
    "im_features=np.zeros((len(image_paths),k),\"float32\")\n",
    "for i in range(len(image_paths)):\n",
    "    words,distance=vq(des_list[i][1],voc)\n",
    "    for w in words:\n",
    "        im_features[i][w]+=1"
   ]
  },
  {
   "cell_type": "code",
   "execution_count": null,
   "metadata": {},
   "outputs": [],
   "source": [
    "from sklearn.preprocessing import StandardScaler\n",
    "stdslr=StandardScaler().fit(im_features)\n",
    "im_features=stdslr.transform(im_features)"
   ]
  },
  {
   "cell_type": "code",
   "execution_count": null,
   "metadata": {},
   "outputs": [],
   "source": [
    "from sklearn.svm import LinearSVC\n",
    "clf=LinearSVC(max_iter=80000)\n",
    "clf.fit(im_features,np.array(y_train))"
   ]
  },
  {
   "cell_type": "code",
   "execution_count": null,
   "metadata": {},
   "outputs": [],
   "source": [
    "des_list_test=[]"
   ]
  },
  {
   "cell_type": "code",
   "execution_count": null,
   "metadata": {},
   "outputs": [],
   "source": [
    "for image_pat in image_paths_test:\n",
    "    image=cv2.imread(image_pat)\n",
    "    kp=orb.detect(image,None)\n",
    "    keypoints_test,descriptor_test= orb.compute(image, kp)\n",
    "    des_list_test.append((image_pat,descriptor_test))"
   ]
  },
  {
   "cell_type": "code",
   "execution_count": null,
   "metadata": {},
   "outputs": [],
   "source": [
    "len(image_paths_test)"
   ]
  },
  {
   "cell_type": "code",
   "execution_count": null,
   "metadata": {},
   "outputs": [],
   "source": [
    "from scipy.cluster.vq import vq\n",
    "test_features=np.zeros((len(image_paths_test),k),\"float32\")\n",
    "for i in range(len(image_paths_test)):\n",
    "    words,distance=vq(des_list_test[i][1],voc)\n",
    "    for w in words:\n",
    "        test_features[i][w]+=1"
   ]
  },
  {
   "cell_type": "code",
   "execution_count": null,
   "metadata": {},
   "outputs": [],
   "source": [
    "test_features"
   ]
  },
  {
   "cell_type": "code",
   "execution_count": null,
   "metadata": {},
   "outputs": [],
   "source": [
    "test_features=stdslr.transform(test_features)"
   ]
  },
  {
   "cell_type": "code",
   "execution_count": null,
   "metadata": {},
   "outputs": [],
   "source": [
    "true_classes=[]\n",
    "for i in y_test:\n",
    "    if i==1:\n",
    "        true_classes.append(\"Cat\")\n",
    "    else:\n",
    "        true_classes.append(\"Dog\")"
   ]
  },
  {
   "cell_type": "code",
   "execution_count": null,
   "metadata": {},
   "outputs": [],
   "source": [
    "predict_classes=[]\n",
    "for i in clf.predict(test_features):\n",
    "    if i==1:\n",
    "        predict_classes.append(\"Cat\")\n",
    "    else:\n",
    "        predict_classes.append(\"Dog\")"
   ]
  },
  {
   "cell_type": "code",
   "execution_count": null,
   "metadata": {},
   "outputs": [],
   "source": [
    "clf.predict(test_features)"
   ]
  },
  {
   "cell_type": "code",
   "execution_count": null,
   "metadata": {},
   "outputs": [],
   "source": [
    "accuracy=accuracy_score(true_classes,predict_classes)\n",
    "print(accuracy)"
   ]
  }
 ],
 "metadata": {
  "colab": {
   "collapsed_sections": [],
   "name": "VR_ass2b.ipynb",
   "provenance": []
  },
  "kernelspec": {
   "display_name": "Python 3",
   "language": "python",
   "name": "python3"
  },
  "language_info": {
   "codemirror_mode": {
    "name": "ipython",
    "version": 3
   },
   "file_extension": ".py",
   "mimetype": "text/x-python",
   "name": "python",
   "nbconvert_exporter": "python",
   "pygments_lexer": "ipython3",
   "version": "3.6.10"
  }
 },
 "nbformat": 4,
 "nbformat_minor": 1
}
