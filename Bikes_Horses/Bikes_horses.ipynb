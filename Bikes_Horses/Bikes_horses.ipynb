{
 "cells": [
  {
   "cell_type": "code",
   "execution_count": 84,
   "metadata": {},
   "outputs": [],
   "source": [
    "import cv2\n",
    "import numpy as np\n",
    "import os\n",
    "from sklearn.cluster import KMeans\n",
    "from sklearn.preprocessing import StandardScaler\n",
    "from sklearn.svm import SVC\n",
    "from sklearn.neighbors import KNeighborsClassifier\n",
    "from sklearn.linear_model import LogisticRegression\n",
    "from sklearn.pipeline import make_pipeline\n",
    "from sklearn.model_selection import train_test_split\n",
    "from sklearn.metrics import accuracy_score"
   ]
  },
  {
   "cell_type": "code",
   "execution_count": 85,
   "metadata": {},
   "outputs": [],
   "source": [
    "def load_dataset(folder_path, image_size):\n",
    "    images = []\n",
    "    labels = []\n",
    "    for label, class_name in enumerate(['Bikes', 'Horses']):\n",
    "        class_folder = os.path.join(folder_path, class_name)\n",
    "        for file_name in os.listdir(class_folder):\n",
    "            img = cv2.imread(os.path.join(class_folder, file_name), cv2.IMREAD_GRAYSCALE)\n",
    "            img = cv2.resize(img, image_size)  # Resize image to a common size\n",
    "            images.append(img)\n",
    "            labels.append(label)\n",
    "    return np.array(images), np.array(labels)"
   ]
  },
  {
   "cell_type": "code",
   "execution_count": 86,
   "metadata": {},
   "outputs": [],
   "source": [
    "def extract_features(images):\n",
    "    sift = cv2.SIFT_create()\n",
    "    keypoints = []\n",
    "    descriptors = []\n",
    "    for image in images:\n",
    "        kp, desc = sift.detectAndCompute(image, None)\n",
    "        keypoints.append(kp)\n",
    "        descriptors.append(desc)\n",
    "    return keypoints, descriptors"
   ]
  },
  {
   "cell_type": "code",
   "execution_count": 87,
   "metadata": {},
   "outputs": [],
   "source": [
    "def generate_codebook(descriptors, num_clusters):\n",
    "    all_descriptors = np.concatenate(descriptors, axis=0)\n",
    "    kmeans = KMeans(n_clusters=num_clusters)\n",
    "    kmeans.fit(all_descriptors)\n",
    "    return kmeans"
   ]
  },
  {
   "cell_type": "code",
   "execution_count": 88,
   "metadata": {},
   "outputs": [],
   "source": [
    "def quantize_features(descriptors, codebook):\n",
    "    quantized_features = []\n",
    "    for desc in descriptors:\n",
    "        labels = codebook.predict(desc)\n",
    "        hist, _ = np.histogram(labels, bins=range(codebook.n_clusters + 1), density=True)\n",
    "        quantized_features.append(hist)\n",
    "    return np.array(quantized_features)\n"
   ]
  },
  {
   "cell_type": "code",
   "execution_count": 89,
   "metadata": {},
   "outputs": [],
   "source": [
    "def train_classifier(features, labels, option, k=None):\n",
    "    if option == \"SVC\":\n",
    "        clf = make_pipeline(StandardScaler(), SVC(kernel='linear'))\n",
    "    elif option == \"KNN\":\n",
    "        clf = make_pipeline(StandardScaler(), KNeighborsClassifier(n_neighbors=k))\n",
    "    elif option == \"LogR\":\n",
    "        clf = make_pipeline(StandardScaler(), LogisticRegression())\n",
    "    else:\n",
    "        print(\"Invalid option. Please choose from 'SVC', 'KNN', or 'LogR'.\")\n",
    "    \n",
    "    clf.fit(features, labels)\n",
    "    return clf"
   ]
  },
  {
   "cell_type": "code",
   "execution_count": 90,
   "metadata": {},
   "outputs": [],
   "source": [
    "def evaluate_classifier(clf, test_features, test_labels):\n",
    "    predictions = clf.predict(test_features)\n",
    "    accuracy = accuracy_score(test_labels, predictions)\n",
    "    return accuracy\n"
   ]
  },
  {
   "cell_type": "code",
   "execution_count": 91,
   "metadata": {},
   "outputs": [],
   "source": [
    "folder_path = \"./Assignment2_BikeHorses/Assignment2_BikeHorses\"\n",
    "images, labels = load_dataset(folder_path,(100,100))"
   ]
  },
  {
   "cell_type": "code",
   "execution_count": 92,
   "metadata": {},
   "outputs": [],
   "source": [
    "train_images, test_images, train_labels, test_labels = train_test_split(images, labels, test_size=0.2, random_state=42)\n",
    "# Feature extraction\n",
    "train_keypoints, train_descriptors = extract_features(train_images)\n",
    "test_keypoints, test_descriptors = extract_features(test_images)"
   ]
  },
  {
   "cell_type": "code",
   "execution_count": 93,
   "metadata": {},
   "outputs": [],
   "source": [
    "num_clusters = 100  # Adjust as needed\n",
    "codebook = generate_codebook(train_descriptors, num_clusters)\n",
    "\n",
    "# Feature quantization\n",
    "train_features = quantize_features(train_descriptors, codebook)\n",
    "test_features = quantize_features(test_descriptors, codebook)"
   ]
  },
  {
   "cell_type": "code",
   "execution_count": 94,
   "metadata": {},
   "outputs": [
    {
     "name": "stdout",
     "output_type": "stream",
     "text": [
      "Accuracy: 0.8888888888888888\n"
     ]
    }
   ],
   "source": [
    "clf = train_classifier(train_features, train_labels,\"LogR\",5)\n",
    "\n",
    "# Evaluate classifier\n",
    "accuracy = evaluate_classifier(clf, test_features, test_labels)\n",
    "print(\"Accuracy:\", accuracy)"
   ]
  }
 ],
 "metadata": {
  "kernelspec": {
   "display_name": "Python 3",
   "language": "python",
   "name": "python3"
  },
  "language_info": {
   "codemirror_mode": {
    "name": "ipython",
    "version": 3
   },
   "file_extension": ".py",
   "mimetype": "text/x-python",
   "name": "python",
   "nbconvert_exporter": "python",
   "pygments_lexer": "ipython3",
   "version": "3.11.5"
  }
 },
 "nbformat": 4,
 "nbformat_minor": 2
}
