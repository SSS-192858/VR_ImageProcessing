{
 "cells": [
  {
   "cell_type": "code",
   "execution_count": 8,
   "metadata": {},
   "outputs": [
    {
     "ename": "error",
     "evalue": "OpenCV(4.9.0) D:\\a\\opencv-python\\opencv-python\\opencv\\modules\\imgproc\\src\\color.cpp:196: error: (-215:Assertion failed) !_src.empty() in function 'cv::cvtColor'\n",
     "output_type": "error",
     "traceback": [
      "\u001b[1;31m---------------------------------------------------------------------------\u001b[0m",
      "\u001b[1;31merror\u001b[0m                                     Traceback (most recent call last)",
      "Cell \u001b[1;32mIn[8], line 32\u001b[0m\n\u001b[0;32m     30\u001b[0m all_descriptors \u001b[38;5;241m=\u001b[39m []\n\u001b[0;32m     31\u001b[0m \u001b[38;5;28;01mfor\u001b[39;00m image_path \u001b[38;5;129;01min\u001b[39;00m image_paths_train \u001b[38;5;241m+\u001b[39m image_paths_test:\n\u001b[1;32m---> 32\u001b[0m     descriptors \u001b[38;5;241m=\u001b[39m \u001b[43mextract_sift_features\u001b[49m\u001b[43m(\u001b[49m\u001b[43mimage_path\u001b[49m\u001b[43m)\u001b[49m\n\u001b[0;32m     33\u001b[0m     \u001b[38;5;28;01mif\u001b[39;00m descriptors \u001b[38;5;129;01mis\u001b[39;00m \u001b[38;5;129;01mnot\u001b[39;00m \u001b[38;5;28;01mNone\u001b[39;00m:\n\u001b[0;32m     34\u001b[0m         all_descriptors\u001b[38;5;241m.\u001b[39mextend(descriptors)\n",
      "Cell \u001b[1;32mIn[8], line 12\u001b[0m, in \u001b[0;36mextract_sift_features\u001b[1;34m(image_path)\u001b[0m\n\u001b[0;32m     10\u001b[0m \u001b[38;5;28;01mdef\u001b[39;00m \u001b[38;5;21mextract_sift_features\u001b[39m(image_path):\n\u001b[0;32m     11\u001b[0m     image \u001b[38;5;241m=\u001b[39m cv2\u001b[38;5;241m.\u001b[39mimread(image_path)\n\u001b[1;32m---> 12\u001b[0m     gray \u001b[38;5;241m=\u001b[39m \u001b[43mcv2\u001b[49m\u001b[38;5;241;43m.\u001b[39;49m\u001b[43mcvtColor\u001b[49m\u001b[43m(\u001b[49m\u001b[43mimage\u001b[49m\u001b[43m,\u001b[49m\u001b[43m \u001b[49m\u001b[43mcv2\u001b[49m\u001b[38;5;241;43m.\u001b[39;49m\u001b[43mCOLOR_BGR2GRAY\u001b[49m\u001b[43m)\u001b[49m\n\u001b[0;32m     13\u001b[0m     sift \u001b[38;5;241m=\u001b[39m cv2\u001b[38;5;241m.\u001b[39mSIFT_create()\n\u001b[0;32m     14\u001b[0m     keypoints, descriptors \u001b[38;5;241m=\u001b[39m sift\u001b[38;5;241m.\u001b[39mdetectAndCompute(gray, \u001b[38;5;28;01mNone\u001b[39;00m)\n",
      "\u001b[1;31merror\u001b[0m: OpenCV(4.9.0) D:\\a\\opencv-python\\opencv-python\\opencv\\modules\\imgproc\\src\\color.cpp:196: error: (-215:Assertion failed) !_src.empty() in function 'cv::cvtColor'\n"
     ]
    }
   ],
   "source": [
    "import numpy as np\n",
    "import cv2\n",
    "from sklearn.cluster import KMeans\n",
    "from sklearn.svm import SVC\n",
    "from sklearn.pipeline import make_pipeline\n",
    "from sklearn.preprocessing import StandardScaler\n",
    "import glob\n",
    "\n",
    "# Function to extract SIFT features from an image\n",
    "def extract_sift_features(image_path):\n",
    "    image = cv2.imread(image_path)\n",
    "    gray = cv2.cvtColor(image, cv2.COLOR_BGR2GRAY)\n",
    "    sift = cv2.SIFT_create()\n",
    "    keypoints, descriptors = sift.detectAndCompute(gray, None)\n",
    "    return descriptors\n",
    "\n",
    "# Function to extract SURF features from an image\n",
    "def extract_surf_features(image_path):\n",
    "    image = cv2.imread(image_path)\n",
    "    gray = cv2.cvtColor(image, cv2.COLOR_BGR2GRAY)\n",
    "    surf = cv2.xfeatures2d.SURF_create()\n",
    "    keypoints, descriptors = surf.detectAndCompute(gray, None)\n",
    "    return descriptors\n",
    "\n",
    "# Get image paths\n",
    "image_paths_train = glob.glob('./Assignment2_BikeHorses/Assignment2_BikeHorses/cifar-10-python/cifar-10-batches-py/data_batch_*')\n",
    "image_paths_test = glob.glob('./Assignment2_BikeHorses/Assignment2_BikeHorses/cifar-10-python/cifar-10-batches-py/test_batch')\n",
    "\n",
    "# Extract features from images\n",
    "all_descriptors = []\n",
    "for image_path in image_paths_train + image_paths_test:\n",
    "    descriptors = extract_sift_features(image_path)\n",
    "    if descriptors is not None:\n",
    "        all_descriptors.extend(descriptors)\n",
    "\n",
    "# Convert descriptors to numpy array\n",
    "all_descriptors = np.array(all_descriptors)\n",
    "\n",
    "# Perform K-means clustering\n",
    "kmeans = KMeans(n_clusters=100)\n",
    "kmeans.fit(all_descriptors)\n",
    "\n",
    "# Function to generate bag of visual words representation\n",
    "def bag_of_visual_words(image_paths, kmeans):\n",
    "    features = []\n",
    "    for image_path in image_paths:\n",
    "        descriptors = extract_sift_features(image_path)\n",
    "        if descriptors is not None:\n",
    "            words = kmeans.predict(descriptors)\n",
    "            histogram, _ = np.histogram(words, bins=range(101))\n",
    "            features.append(histogram)\n",
    "    return np.array(features)\n",
    "\n",
    "# Generate features for training and testing data\n",
    "X_train = bag_of_visual_words(image_paths_train, kmeans)\n",
    "X_test = bag_of_visual_words(image_paths_test, kmeans)\n",
    "\n",
    "# Dummy labels for demonstration\n",
    "y_train = np.random.randint(0, 2, size=len(image_paths_train))\n",
    "y_test = np.random.randint(0, 2, size=len(image_paths_test))\n",
    "\n",
    "# Train SVM classifier\n",
    "clf = make_pipeline(StandardScaler(), SVC())\n",
    "clf.fit(X_train, y_train)\n",
    "\n",
    "# Evaluate on test data\n",
    "accuracy = clf.score(X_test, y_test)\n",
    "print(\"Accuracy:\", accuracy)\n"
   ]
  }
 ],
 "metadata": {
  "kernelspec": {
   "display_name": "Python 3",
   "language": "python",
   "name": "python3"
  },
  "language_info": {
   "codemirror_mode": {
    "name": "ipython",
    "version": 3
   },
   "file_extension": ".py",
   "mimetype": "text/x-python",
   "name": "python",
   "nbconvert_exporter": "python",
   "pygments_lexer": "ipython3",
   "version": "3.11.5"
  }
 },
 "nbformat": 4,
 "nbformat_minor": 2
}
